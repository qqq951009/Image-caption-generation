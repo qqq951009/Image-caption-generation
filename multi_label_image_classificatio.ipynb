{
  "nbformat": 4,
  "nbformat_minor": 0,
  "metadata": {
    "colab": {
      "name": "「multi_label_image_classification」的副本",
      "provenance": [],
      "collapsed_sections": []
    },
    "kernelspec": {
      "display_name": "Python 3",
      "name": "python3"
    },
    "accelerator": "GPU"
  },
  "cells": [
    {
      "cell_type": "code",
      "metadata": {
        "id": "U8l4RJ0XRPEm"
      },
      "source": [
        "import tensorflow as tf\n",
        "\n",
        "# You'll generate plots of attention in order to see which parts of an image\n",
        "# your model focuses on during captioning\n",
        "import matplotlib.pyplot as plt\n",
        "\n",
        "import collections\n",
        "import random\n",
        "import numpy as np\n",
        "import pandas as pd\n",
        "import os\n",
        "import time\n",
        "import json\n",
        "from PIL import Image"
      ],
      "execution_count": null,
      "outputs": []
    },
    {
      "cell_type": "markdown",
      "metadata": {
        "id": "b6qbGw8MRPE5"
      },
      "source": [
        "## Download and prepare the MS-COCO dataset\n"
      ]
    },
    {
      "cell_type": "code",
      "metadata": {
        "id": "krQuPYTtRPE7",
        "colab": {
          "base_uri": "https://localhost:8080/"
        },
        "outputId": "44042b9e-bd13-4ba9-f1aa-f2190b6aa41b"
      },
      "source": [
        "# Download caption annotation files\n",
        "annotation_folder = '/annotations/'\n",
        "if not os.path.exists(os.path.abspath('.') + annotation_folder):\n",
        "  annotation_zip = tf.keras.utils.get_file('captions.zip',\n",
        "                        cache_subdir=os.path.abspath('.'),\n",
        "                        origin='http://images.cocodataset.org/annotations/annotations_trainval2014.zip',\n",
        "                        extract=True)\n",
        "  annotation_file = os.path.dirname(annotation_zip)+'/annotations/captions_train2014.json'\n",
        "  os.remove(annotation_zip)\n",
        "\n",
        "# Download image files\n",
        "image_folder = '/train2014/'\n",
        "if not os.path.exists(os.path.abspath('.') + image_folder):\n",
        "  image_zip = tf.keras.utils.get_file('train2014.zip',\n",
        "                    cache_subdir=os.path.abspath('.'),\n",
        "                    origin='http://images.cocodataset.org/zips/train2014.zip',\n",
        "                    extract=True)\n",
        "  PATH = os.path.dirname(image_zip) + image_folder\n",
        "  os.remove(image_zip)\n",
        "else:\n",
        "  PATH = os.path.abspath('.') + image_folder"
      ],
      "execution_count": null,
      "outputs": [
        {
          "output_type": "stream",
          "text": [
            "Downloading data from http://images.cocodataset.org/annotations/annotations_trainval2014.zip\n",
            "252878848/252872794 [==============================] - 3s 0us/step\n",
            "Downloading data from http://images.cocodataset.org/zips/train2014.zip\n",
            "13510574080/13510573713 [==============================] - 327s 0us/step\n"
          ],
          "name": "stdout"
        }
      ]
    },
    {
      "cell_type": "code",
      "metadata": {
        "colab": {
          "base_uri": "https://localhost:8080/"
        },
        "id": "QGY48Va4FrVF",
        "outputId": "9973b72c-4f30-4de1-931c-5a2e810f83a5"
      },
      "source": [
        "from google.colab import drive\n",
        "drive.mount('/content/drive')"
      ],
      "execution_count": null,
      "outputs": [
        {
          "output_type": "stream",
          "text": [
            "Mounted at /content/drive\n"
          ],
          "name": "stdout"
        }
      ]
    },
    {
      "cell_type": "markdown",
      "metadata": {
        "id": "aANEzb5WwSzg"
      },
      "source": [
        "## Optional: limit the size of the training set \n"
      ]
    },
    {
      "cell_type": "code",
      "metadata": {
        "id": "m8iBJCyVB2ud"
      },
      "source": [
        "with open('/content/annotations/captions_train2014.json', 'r') as f:\n",
        "    annotations = json.load(f)"
      ],
      "execution_count": null,
      "outputs": []
    },
    {
      "cell_type": "code",
      "metadata": {
        "id": "miER7EHMB3Ge"
      },
      "source": [
        "# Group all captions together having the same image ID.\n",
        "image_path_to_caption = collections.defaultdict(list)\n",
        "for val in annotations['annotations']:\n",
        "  caption = f\"<start> {val['caption']} <end>\"\n",
        "  image_path = PATH + 'COCO_train2014_' + '%012d.jpg' % (val['image_id'])\n",
        "  image_path_to_caption[image_path].append(caption)"
      ],
      "execution_count": null,
      "outputs": []
    },
    {
      "cell_type": "markdown",
      "metadata": {
        "id": "hjSKzn-tsYF8"
      },
      "source": [
        "# 取得所有圖片的image id"
      ]
    },
    {
      "cell_type": "code",
      "metadata": {
        "id": "Qdd6vRpIsXm3"
      },
      "source": [
        "image_ids = []\n",
        "for i in annotations['annotations']:\n",
        "  image_ids.append(i['image_id'])\n",
        "image_ids = list(set(image_ids))\n",
        "image_ids = sorted(image_ids)"
      ],
      "execution_count": null,
      "outputs": []
    },
    {
      "cell_type": "code",
      "metadata": {
        "colab": {
          "base_uri": "https://localhost:8080/"
        },
        "id": "HgVsM0CGB1R2",
        "outputId": "80b9d8ef-3844-410e-9114-3d6b041d30e8"
      },
      "source": [
        "len(image_ids)"
      ],
      "execution_count": null,
      "outputs": [
        {
          "output_type": "execute_result",
          "data": {
            "text/plain": [
              "82783"
            ]
          },
          "metadata": {
            "tags": []
          },
          "execution_count": 20
        }
      ]
    },
    {
      "cell_type": "markdown",
      "metadata": {
        "id": "Vdb1puwQsurg"
      },
      "source": [
        "# 取得每個圖片在coco dataset的category"
      ]
    },
    {
      "cell_type": "code",
      "metadata": {
        "colab": {
          "base_uri": "https://localhost:8080/"
        },
        "id": "8IsONPMBstiY",
        "outputId": "86eeff20-939a-4dfe-9a48-ce05dcaa406b"
      },
      "source": [
        "from pycocotools.coco import COCO\n",
        "coco=COCO('/content/annotations/instances_train2014.json')"
      ],
      "execution_count": null,
      "outputs": [
        {
          "output_type": "stream",
          "text": [
            "loading annotations into memory...\n",
            "Done (t=10.28s)\n",
            "creating index...\n",
            "index created!\n"
          ],
          "name": "stdout"
        }
      ]
    },
    {
      "cell_type": "code",
      "metadata": {
        "id": "nohMYLBMzD3o"
      },
      "source": [
        "cats = coco.loadCats(coco.getCatIds())\n",
        "cat_dict = {}\n",
        "i=0\n",
        "for cat in cats:\n",
        "  cat_dict[cat['id']] = cat['name']\n"
      ],
      "execution_count": null,
      "outputs": []
    },
    {
      "cell_type": "code",
      "metadata": {
        "id": "t1Kfecdns_kz"
      },
      "source": [
        "img_coco_catid = []\n",
        "for imgid in image_ids:#image_ids lengths:82783\n",
        "  temp = [] \n",
        "  imgIds = coco.getImgIds(imgIds = [imgid])\n",
        "  img = coco.loadImgs(imgIds[0])[0]\n",
        "  annIds = coco.getAnnIds(imgIds=img['id'], iscrowd=None)\n",
        "  anns = coco.loadAnns(annIds)\n",
        "  for i in anns:\n",
        "    if i['category_id'] < 65: ###if i['category_id'] < 55: 篩50個category出來\n",
        "      temp.append(i['category_id'])\n",
        "  if len(temp) != 0: \n",
        "    temp = sorted(list(set(temp)))\n",
        "  else:\n",
        "    temp.append(0)\n",
        "  img_coco_catid.append(temp)"
      ],
      "execution_count": null,
      "outputs": []
    },
    {
      "cell_type": "code",
      "metadata": {
        "colab": {
          "base_uri": "https://localhost:8080/"
        },
        "id": "UEEO9bUdYDnd",
        "outputId": "61628207-556f-4a03-edab-ecc440c340a5"
      },
      "source": [
        "cat_temp = []\n",
        "for i in img_coco_catid:\n",
        "  for cat in i:\n",
        "    if cat not in cat_temp:\n",
        "      cat_temp.append(cat)\n",
        "cat_temp = sorted(cat_temp)\n",
        "len(cat_temp)"
      ],
      "execution_count": null,
      "outputs": [
        {
          "output_type": "execute_result",
          "data": {
            "text/plain": [
              "60"
            ]
          },
          "metadata": {
            "tags": []
          },
          "execution_count": 24
        }
      ]
    },
    {
      "cell_type": "markdown",
      "metadata": {
        "id": "FPvT0K2yC24G"
      },
      "source": [
        "# onehot encoding"
      ]
    },
    {
      "cell_type": "code",
      "metadata": {
        "id": "iPsh8e4x9EyW",
        "colab": {
          "base_uri": "https://localhost:8080/"
        },
        "outputId": "74cfc472-aac2-4670-a9e3-fe5e5e8e1ebc"
      },
      "source": [
        "img_coco_catname = []\n",
        "for i in img_coco_catid:\n",
        "  temp = []\n",
        "  for id in i:\n",
        "    if id != 0:\n",
        "      temp.append(cat_dict[id])\n",
        "    else:\n",
        "      temp.append('none')\n",
        "  img_coco_catname.append(temp)\n",
        "img_coco_catname[:90]"
      ],
      "execution_count": null,
      "outputs": [
        {
          "output_type": "execute_result",
          "data": {
            "text/plain": [
              "[['bowl', 'orange', 'broccoli'],\n",
              " ['giraffe'],\n",
              " ['potted plant'],\n",
              " ['zebra'],\n",
              " ['person', 'umbrella'],\n",
              " ['person', 'horse', 'potted plant'],\n",
              " ['person', 'elephant'],\n",
              " ['car', 'truck', 'stop sign'],\n",
              " ['car', 'train', 'truck'],\n",
              " ['giraffe'],\n",
              " ['person', 'skateboard'],\n",
              " ['none'],\n",
              " ['airplane'],\n",
              " ['person', 'motorcycle', 'handbag'],\n",
              " ['knife'],\n",
              " ['fork', 'cake'],\n",
              " ['car', 'truck'],\n",
              " ['person', 'bench', 'dog'],\n",
              " ['person', 'cup', 'fork', 'knife', 'pizza', 'chair'],\n",
              " ['person', 'cup', 'knife', 'cake', 'chair'],\n",
              " ['person',\n",
              "  'bench',\n",
              "  'umbrella',\n",
              "  'handbag',\n",
              "  'cup',\n",
              "  'knife',\n",
              "  'spoon',\n",
              "  'cake',\n",
              "  'potted plant'],\n",
              " ['bowl', 'potted plant'],\n",
              " ['bottle', 'banana', 'sandwich'],\n",
              " ['giraffe'],\n",
              " ['person', 'car', 'kite'],\n",
              " ['person', 'train', 'stop sign'],\n",
              " ['zebra'],\n",
              " ['person', 'tie'],\n",
              " ['knife', 'pizza'],\n",
              " ['person', 'snowboard'],\n",
              " ['car', 'airplane'],\n",
              " ['none'],\n",
              " ['person', 'car', 'bus', 'suitcase'],\n",
              " ['elephant'],\n",
              " ['car', 'dog', 'frisbee'],\n",
              " ['person', 'umbrella', 'wine glass'],\n",
              " ['dog'],\n",
              " ['elephant'],\n",
              " ['person', 'umbrella', 'handbag', 'chair'],\n",
              " ['sandwich', 'hot dog'],\n",
              " ['person', 'frisbee'],\n",
              " ['person', 'wine glass'],\n",
              " ['cup', 'fork', 'bowl', 'carrot'],\n",
              " ['train', 'potted plant'],\n",
              " ['person', 'sports ball'],\n",
              " ['person', 'broccoli'],\n",
              " ['person', 'backpack', 'skis'],\n",
              " ['couch'],\n",
              " ['person', 'backpack', 'tie'],\n",
              " ['dog', 'frisbee'],\n",
              " ['boat'],\n",
              " ['person', 'car', 'sports ball', 'tennis racket'],\n",
              " ['person', 'sports ball', 'tennis racket'],\n",
              " ['person', 'donut'],\n",
              " ['donut'],\n",
              " ['person', 'cat', 'couch'],\n",
              " ['person', 'couch', 'potted plant'],\n",
              " ['wine glass', 'cup', 'pizza'],\n",
              " ['person', 'bus'],\n",
              " ['dog', 'skateboard'],\n",
              " ['none'],\n",
              " ['none'],\n",
              " ['person', 'traffic light', 'bench'],\n",
              " ['none'],\n",
              " ['person', 'motorcycle'],\n",
              " ['person', 'bicycle', 'sports ball', 'tennis racket'],\n",
              " ['person', 'bus', 'handbag'],\n",
              " ['car', 'airplane', 'bus', 'truck', 'traffic light'],\n",
              " ['person', 'airplane', 'handbag', 'tie'],\n",
              " ['potted plant'],\n",
              " ['cup'],\n",
              " ['person', 'suitcase'],\n",
              " ['cat'],\n",
              " ['dog'],\n",
              " ['spoon', 'bowl', 'broccoli', 'carrot'],\n",
              " ['none'],\n",
              " ['elephant'],\n",
              " ['cup', 'spoon'],\n",
              " ['none'],\n",
              " ['pizza'],\n",
              " ['person', 'frisbee'],\n",
              " ['motorcycle'],\n",
              " ['person', 'skateboard'],\n",
              " ['bottle', 'bowl'],\n",
              " ['car', 'cat'],\n",
              " ['car', 'motorcycle'],\n",
              " ['person', 'train', 'handbag'],\n",
              " ['apple', 'orange'],\n",
              " ['horse'],\n",
              " ['person', 'surfboard']]"
            ]
          },
          "metadata": {
            "tags": []
          },
          "execution_count": 25
        }
      ]
    },
    {
      "cell_type": "code",
      "metadata": {
        "id": "2y9AExiT7StW"
      },
      "source": [
        "cats = coco.loadCats(coco.getCatIds())\n",
        "cat_dict_transfer = {0:'none'}\n",
        "i=1\n",
        "for cat in cats:\n",
        "  cat_dict_transfer[i] = cat['name']\n",
        "  i+=1\n",
        "cat_dict_transfer\n",
        "rev_cat_dict_transfer = {v: k for k, v in cat_dict_transfer.items()}"
      ],
      "execution_count": null,
      "outputs": []
    },
    {
      "cell_type": "code",
      "metadata": {
        "id": "-Y_4hlCFaOpY"
      },
      "source": [
        "#製作category和category_id的mapping (cat = 60版本)\n",
        "cat_dict_transfer50 = {}\n",
        "index = 0\n",
        "for i in cat_dict_transfer.keys():\n",
        "  if i < 60:\n",
        "    cat_dict_transfer50[i] = cat_dict_transfer[i]\n",
        "rev_cat_dict_transfer50 = {v: k for k, v in cat_dict_transfer50.items()}"
      ],
      "execution_count": null,
      "outputs": []
    },
    {
      "cell_type": "code",
      "metadata": {
        "colab": {
          "base_uri": "https://localhost:8080/"
        },
        "id": "mJtOU4-VmuEU",
        "outputId": "1185525f-9438-434c-8b46-da0ea4e4cbed"
      },
      "source": [
        "img_coco_catname[:5]"
      ],
      "execution_count": null,
      "outputs": [
        {
          "output_type": "execute_result",
          "data": {
            "text/plain": [
              "[['bowl', 'orange', 'broccoli'],\n",
              " ['giraffe'],\n",
              " ['potted plant'],\n",
              " ['zebra'],\n",
              " ['person', 'umbrella']]"
            ]
          },
          "metadata": {
            "tags": []
          },
          "execution_count": 28
        }
      ]
    },
    {
      "cell_type": "code",
      "metadata": {
        "colab": {
          "base_uri": "https://localhost:8080/"
        },
        "id": "Sz0sGw9bAF7G",
        "outputId": "9b951fdf-9319-4a08-f9b0-da912f1ea86d"
      },
      "source": [
        "onehot_label = []\n",
        "for cat_names in img_coco_catname:\n",
        "  temparr = np.zeros(len(cat_dict_transfer50))#(category = 50)cat_dict_transfer50\n",
        "  for cat_name in cat_names:\n",
        "    cat_id = rev_cat_dict_transfer[cat_name]\n",
        "    temparr[cat_id] = 1\n",
        "  onehot_label.append(temparr)\n",
        "len(onehot_label),len(onehot_label[0])"
      ],
      "execution_count": null,
      "outputs": [
        {
          "output_type": "execute_result",
          "data": {
            "text/plain": [
              "(82783, 60)"
            ]
          },
          "metadata": {
            "tags": []
          },
          "execution_count": 29
        }
      ]
    },
    {
      "cell_type": "code",
      "metadata": {
        "id": "jUX0cWUs3znT"
      },
      "source": [
        "image_paths = list(image_path_to_caption.keys())\n",
        "image_paths = sorted(image_paths)"
      ],
      "execution_count": null,
      "outputs": []
    },
    {
      "cell_type": "code",
      "metadata": {
        "id": "-_a9uP52eRpb",
        "colab": {
          "base_uri": "https://localhost:8080/"
        },
        "outputId": "8f604d96-e029-43b2-eca2-d8e999944aee"
      },
      "source": [
        "#取新的(category = 50)onehot_label和image_paths的list\n",
        "onehot_label_50 = []\n",
        "image_paths_50 = []\n",
        "index = 0\n",
        "for i in onehot_label:\n",
        "  if i[0] != 1:\n",
        "    onehot_label_50.append(i)\n",
        "    value = image_paths[index]\n",
        "    image_paths_50.append(value)\n",
        "  index+=1\n",
        "len(onehot_label_50),len(onehot_label_50[0]),len(image_paths_50)"
      ],
      "execution_count": null,
      "outputs": [
        {
          "output_type": "execute_result",
          "data": {
            "text/plain": [
              "(76693, 60, 76693)"
            ]
          },
          "metadata": {
            "tags": []
          },
          "execution_count": 31
        }
      ]
    },
    {
      "cell_type": "code",
      "metadata": {
        "id": "aL7rnKNdx7v0"
      },
      "source": [
        "def load_image(image_path):\n",
        "    img = tf.io.read_file(image_path)\n",
        "    img = tf.image.decode_jpeg(img, channels=3)\n",
        "    img = tf.image.resize(img, (224, 224))\n",
        "    \n",
        "    img = tf.keras.applications.vgg16.preprocess_input(img)\n",
        "    return img"
      ],
      "execution_count": null,
      "outputs": []
    },
    {
      "cell_type": "markdown",
      "metadata": {
        "id": "Zcw5E2Wfqv5p"
      },
      "source": [
        "# Split train&test set"
      ]
    },
    {
      "cell_type": "code",
      "metadata": {
        "id": "r_EJeSaWzsbv"
      },
      "source": [
        "def split_train_test(path_list,label_list):\n",
        "  shuffle_buffer = 20\n",
        "  path_ds = tf.data.Dataset.from_tensor_slices(path_list)\n",
        "  label = tf.data.Dataset.from_tensor_slices(label_list)\n",
        "  image = path_ds.map(load_image)\n",
        "  ds = tf.data.Dataset.zip((image,label))\n",
        "  ds = ds.shuffle(shuffle_buffer,reshuffle_each_iteration=False)\n",
        "  return ds"
      ],
      "execution_count": null,
      "outputs": []
    },
    {
      "cell_type": "code",
      "metadata": {
        "id": "UhalLhVB2BlP"
      },
      "source": [
        "#做trainset和valset\n",
        "train_ds = split_train_test(image_paths_50[:15000],onehot_label_50[:15000])\n",
        "val_ds = split_train_test(image_paths_50[15000:17000],onehot_label_50[15000:17000])\n",
        "# test_ds = split_train_test(image_paths_50[-1500:],onehot_label_50[-1500:])\n"
      ],
      "execution_count": null,
      "outputs": []
    },
    {
      "cell_type": "code",
      "metadata": {
        "id": "dPWj9600DvMC"
      },
      "source": [
        "#做testset\n",
        "test_path = tf.data.Dataset.from_tensor_slices(image_paths_50[-2000:])\n",
        "test_image_tensor = test_path.map(load_image)\n",
        "test_image_label = tf.data.Dataset.from_tensor_slices(onehot_label_50[-2000:])\n"
      ],
      "execution_count": null,
      "outputs": []
    },
    {
      "cell_type": "code",
      "metadata": {
        "id": "k9vQvYWvF344"
      },
      "source": [
        "vgg19_finetune = tf.keras.models.load_model('/content/drive/MyDrive/Colab Notebooks/vgg_multi_label60_ver3_25epoch_SGD.h5')"
      ],
      "execution_count": null,
      "outputs": []
    },
    {
      "cell_type": "code",
      "metadata": {
        "colab": {
          "base_uri": "https://localhost:8080/"
        },
        "id": "fD1dwTgkmgvx",
        "outputId": "b4c52930-37e8-4e81-cf63-088ce6a8f172"
      },
      "source": [
        "test_image_tensor"
      ],
      "execution_count": null,
      "outputs": [
        {
          "output_type": "execute_result",
          "data": {
            "text/plain": [
              "<MapDataset shapes: (224, 224, 3), types: tf.float32>"
            ]
          },
          "metadata": {
            "tags": []
          },
          "execution_count": 47
        }
      ]
    },
    {
      "cell_type": "code",
      "metadata": {
        "id": "y3Fd9IRgFQlI"
      },
      "source": [
        "test_image_tensor_batch = test_image_tensor.batch(1)#batch_size先取1\n",
        "vgg19_predict = vgg19_finetune.predict(test_image_tensor_batch)"
      ],
      "execution_count": null,
      "outputs": []
    },
    {
      "cell_type": "code",
      "metadata": {
        "id": "LhXabCMFL6kZ",
        "colab": {
          "base_uri": "https://localhost:8080/"
        },
        "outputId": "c270f8bf-d648-4dd8-b8d1-cbd1f67ebc90"
      },
      "source": [
        "vgg19_predict.shape"
      ],
      "execution_count": null,
      "outputs": [
        {
          "output_type": "execute_result",
          "data": {
            "text/plain": [
              "(2000, 60)"
            ]
          },
          "metadata": {
            "tags": []
          },
          "execution_count": 49
        }
      ]
    },
    {
      "cell_type": "code",
      "metadata": {
        "id": "yo48-9QALRTE",
        "colab": {
          "base_uri": "https://localhost:8080/"
        },
        "outputId": "44a2da7b-89dd-42ba-ebcf-ca2be995612a"
      },
      "source": [
        "for i in range(10):           #印預測結果\n",
        "  test_result = vgg19_predict[i].argsort()[-5:][::-1]   #取前五高的\n",
        "  [print(cat_dict_transfer50[i]) for i in test_result]\n",
        "  print(\"--------------------------------------------\")"
      ],
      "execution_count": null,
      "outputs": [
        {
          "output_type": "stream",
          "text": [
            "person\n",
            "car\n",
            "skis\n",
            "bottle\n",
            "airplane\n",
            "--------------------------------------------\n",
            "person\n",
            "car\n",
            "skis\n",
            "bottle\n",
            "airplane\n",
            "--------------------------------------------\n",
            "person\n",
            "car\n",
            "skis\n",
            "airplane\n",
            "bottle\n",
            "--------------------------------------------\n",
            "person\n",
            "car\n",
            "skis\n",
            "bottle\n",
            "airplane\n",
            "--------------------------------------------\n",
            "person\n",
            "car\n",
            "skis\n",
            "airplane\n",
            "bottle\n",
            "--------------------------------------------\n",
            "person\n",
            "car\n",
            "skis\n",
            "bottle\n",
            "airplane\n",
            "--------------------------------------------\n",
            "person\n",
            "car\n",
            "skis\n",
            "airplane\n",
            "bottle\n",
            "--------------------------------------------\n",
            "person\n",
            "car\n",
            "skis\n",
            "bottle\n",
            "airplane\n",
            "--------------------------------------------\n",
            "person\n",
            "car\n",
            "skis\n",
            "airplane\n",
            "bottle\n",
            "--------------------------------------------\n",
            "person\n",
            "car\n",
            "skis\n",
            "bottle\n",
            "airplane\n",
            "--------------------------------------------\n"
          ],
          "name": "stdout"
        }
      ]
    },
    {
      "cell_type": "code",
      "metadata": {
        "id": "gUaPzhObH5LY",
        "colab": {
          "base_uri": "https://localhost:8080/",
          "height": 286
        },
        "outputId": "f7828a78-d027-4cb0-80dc-15435b34bd4a"
      },
      "source": [
        "import matplotlib.pyplot as plt\n",
        "for i in test_image_tensor.take(1): #print正解圖片\n",
        "  plt.imshow(i)"
      ],
      "execution_count": null,
      "outputs": [
        {
          "output_type": "stream",
          "text": [
            "Clipping input data to the valid range for imshow with RGB data ([0..1] for floats or [0..255] for integers).\n"
          ],
          "name": "stderr"
        },
        {
          "output_type": "display_data",
          "data": {
            "image/png": "[encoded data removed]",
            "text/plain": [
              "<Figure size 432x288 with 1 Axes>"
            ]
          },
          "metadata": {
            "tags": [],
            "needs_background": "light"
          }
        }
      ]
    },
    {
      "cell_type": "code",
      "metadata": {
        "id": "ewiqAcaPHpIZ"
      },
      "source": [
        "# 取出Tensor圖片來看看\n",
        "import matplotlib.pyplot as plt\n",
        "plt.figure(figsize=(12,10))\n",
        "for index,(img,label) in enumerate(train_ds.take(6)):\n",
        "    cat_label = []\n",
        "    for ids in np.where(label == 1): \n",
        "      for id in ids:\n",
        "        cat_label.append(cat_dict_transfer[id])\n",
        "    #l = np.argmax(label.numpy())\n",
        "    plt.subplot(2,3,index+1)\n",
        "    plt.imshow(img)\n",
        "    plt.title(\"Category Label: {} \\n \".format(cat_label[:]))    #np.where(label == 1)\n",
        "        \n",
        "    plt.axis(\"off\")"
      ],
      "execution_count": null,
      "outputs": []
    },
    {
      "cell_type": "code",
      "metadata": {
        "id": "3TbmTm_-ykVA"
      },
      "source": [
        "len(train_ds)"
      ],
      "execution_count": null,
      "outputs": []
    },
    {
      "cell_type": "code",
      "metadata": {
        "id": "i6GUG-ayLFJT"
      },
      "source": [
        "# 添加batch\n",
        "batch_size = 64\n",
        "train_ds = train_ds.batch(batch_size)   #16556/64 = 258.6875\n",
        "val_ds = val_ds.batch(batch_size) #2648\n",
        "# test_ds = test_ds.batch(batch_size)"
      ],
      "execution_count": null,
      "outputs": []
    },
    {
      "cell_type": "code",
      "metadata": {
        "id": "KIjKEcygOa-N",
        "colab": {
          "base_uri": "https://localhost:8080/"
        },
        "outputId": "73f9f4fb-13fe-4e1a-9b85-d62b9fd6705d"
      },
      "source": [
        "# 查看添加batch後的維度\n",
        "trainiter = iter(train_ds)\n",
        "x,y = trainiter.next()\n",
        "print(\"training image batch shape : \",x.shape)\n",
        "print(\"training label batch shape : \",y.shape)"
      ],
      "execution_count": null,
      "outputs": [
        {
          "output_type": "stream",
          "text": [
            "training image batch shape :  (64, 224, 224, 3)\n",
            "training label batch shape :  (64, 60)\n"
          ],
          "name": "stdout"
        }
      ]
    },
    {
      "cell_type": "markdown",
      "metadata": {
        "id": "9lEGIEKRVfzq"
      },
      "source": [
        "# Build Model"
      ]
    },
    {
      "cell_type": "code",
      "metadata": {
        "id": "tKeBpYh505hW"
      },
      "source": [
        "from tensorflow import keras\n",
        "import keras\n",
        "from keras.models import Sequential\n",
        "from keras.layers import Dense,Dropout,Flatten,BatchNormalization,AveragePooling2D\n",
        "from keras.optimizers import SGD\n",
        "from keras.applications.vgg19 import VGG19\n",
        "from keras.applications.vgg16 import VGG16\n",
        "from keras.applications.resnet import ResNet50\n",
        "from keras.models import Model\n",
        "from keras.optimizers import RMSprop, Adam, SGD\n",
        "from keras import Input"
      ],
      "execution_count": null,
      "outputs": []
    },
    {
      "cell_type": "code",
      "metadata": {
        "id": "S7ji66vBcCHV",
        "colab": {
          "base_uri": "https://localhost:8080/"
        },
        "outputId": "3cb4b0bb-4935-437b-8a88-fcef6613bf6a"
      },
      "source": [
        "res_model = VGG19(include_top=False,weights=\"imagenet\", input_shape=(224,224,3))"
      ],
      "execution_count": null,
      "outputs": [
        {
          "output_type": "stream",
          "text": [
            "Downloading data from https://storage.googleapis.com/tensorflow/keras-applications/vgg19/vgg19_weights_tf_dim_ordering_tf_kernels_notop.h5\n",
            "80142336/80134624 [==============================] - 0s 0us/step\n",
            "80150528/80134624 [==============================] - 0s 0us/step\n"
          ],
          "name": "stdout"
        }
      ]
    },
    {
      "cell_type": "code",
      "metadata": {
        "colab": {
          "base_uri": "https://localhost:8080/"
        },
        "id": "lKhxywavkUBE",
        "outputId": "c93e6af5-10c4-4a17-c23d-bb19a11818c3"
      },
      "source": [
        "\n",
        "# mark loaded layers as not trainable\n",
        "\n",
        "res_model.trainable = False\n",
        "# allow last vgg block to be trainable\n",
        "\n",
        "# add new classifier layers\n",
        "model = Flatten()(res_model.output)\n",
        "model = Dense(256, activation='relu')(model)\n",
        "model = Dropout(0.5)(model)\n",
        "model = BatchNormalization(name = 'Batch_normalize1')(model)\n",
        "model = Dense(128, activation='relu', kernel_initializer='he_uniform')(model)\n",
        "model = Dropout(0.5)(model)\n",
        "model = BatchNormalization(name = 'Batch_normalize2')(model)\n",
        "# model = Dense(64, activation='relu', kernel_initializer='he_uniform')(model)\n",
        "# model = BatchNormalization(name = 'Batch_normalize3')(model)\n",
        "output = Dense(60, activation='softmax')(model)\n",
        "\n",
        "# define new model\n",
        "model_transfer = Model(inputs=res_model.inputs, outputs=output)\n",
        "model_transfer.summary()\n",
        "\n",
        "# opt = Adam((learning_rate=1e-2))\n",
        "# compile model\n",
        "model_transfer.compile(loss='categorical_crossentropy', optimizer=SGD(lr=2e-4), metrics=[\"accuracy\"])"
      ],
      "execution_count": null,
      "outputs": [
        {
          "output_type": "stream",
          "text": [
            "Model: \"model\"\n",
            "_________________________________________________________________\n",
            "Layer (type)                 Output Shape              Param #   \n",
            "=================================================================\n",
            "input_2 (InputLayer)         [(None, 224, 224, 3)]     0         \n",
            "_________________________________________________________________\n",
            "block1_conv1 (Conv2D)        (None, 224, 224, 64)      1792      \n",
            "_________________________________________________________________\n",
            "block1_conv2 (Conv2D)        (None, 224, 224, 64)      36928     \n",
            "_________________________________________________________________\n",
            "block1_pool (MaxPooling2D)   (None, 112, 112, 64)      0         \n",
            "_________________________________________________________________\n",
            "block2_conv1 (Conv2D)        (None, 112, 112, 128)     73856     \n",
            "_________________________________________________________________\n",
            "block2_conv2 (Conv2D)        (None, 112, 112, 128)     147584    \n",
            "_________________________________________________________________\n",
            "block2_pool (MaxPooling2D)   (None, 56, 56, 128)       0         \n",
            "_________________________________________________________________\n",
            "block3_conv1 (Conv2D)        (None, 56, 56, 256)       295168    \n",
            "_________________________________________________________________\n",
            "block3_conv2 (Conv2D)        (None, 56, 56, 256)       590080    \n",
            "_________________________________________________________________\n",
            "block3_conv3 (Conv2D)        (None, 56, 56, 256)       590080    \n",
            "_________________________________________________________________\n",
            "block3_conv4 (Conv2D)        (None, 56, 56, 256)       590080    \n",
            "_________________________________________________________________\n",
            "block3_pool (MaxPooling2D)   (None, 28, 28, 256)       0         \n",
            "_________________________________________________________________\n",
            "block4_conv1 (Conv2D)        (None, 28, 28, 512)       1180160   \n",
            "_________________________________________________________________\n",
            "block4_conv2 (Conv2D)        (None, 28, 28, 512)       2359808   \n",
            "_________________________________________________________________\n",
            "block4_conv3 (Conv2D)        (None, 28, 28, 512)       2359808   \n",
            "_________________________________________________________________\n",
            "block4_conv4 (Conv2D)        (None, 28, 28, 512)       2359808   \n",
            "_________________________________________________________________\n",
            "block4_pool (MaxPooling2D)   (None, 14, 14, 512)       0         \n",
            "_________________________________________________________________\n",
            "block5_conv1 (Conv2D)        (None, 14, 14, 512)       2359808   \n",
            "_________________________________________________________________\n",
            "block5_conv2 (Conv2D)        (None, 14, 14, 512)       2359808   \n",
            "_________________________________________________________________\n",
            "block5_conv3 (Conv2D)        (None, 14, 14, 512)       2359808   \n",
            "_________________________________________________________________\n",
            "block5_conv4 (Conv2D)        (None, 14, 14, 512)       2359808   \n",
            "_________________________________________________________________\n",
            "block5_pool (MaxPooling2D)   (None, 7, 7, 512)         0         \n",
            "_________________________________________________________________\n",
            "flatten (Flatten)            (None, 25088)             0         \n",
            "_________________________________________________________________\n",
            "dense_4 (Dense)              (None, 256)               6422784   \n",
            "_________________________________________________________________\n",
            "dropout (Dropout)            (None, 256)               0         \n",
            "_________________________________________________________________\n",
            "Batch_normalize1 (BatchNorma (None, 256)               1024      \n",
            "_________________________________________________________________\n",
            "dense_5 (Dense)              (None, 128)               32896     \n",
            "_________________________________________________________________\n",
            "dropout_1 (Dropout)          (None, 128)               0         \n",
            "_________________________________________________________________\n",
            "Batch_normalize2 (BatchNorma (None, 128)               512       \n",
            "_________________________________________________________________\n",
            "dense_6 (Dense)              (None, 60)                7740      \n",
            "=================================================================\n",
            "Total params: 26,489,340\n",
            "Trainable params: 6,464,188\n",
            "Non-trainable params: 20,025,152\n",
            "_________________________________________________________________\n"
          ],
          "name": "stdout"
        },
        {
          "output_type": "stream",
          "text": [
            "/usr/local/lib/python3.7/dist-packages/tensorflow/python/keras/optimizer_v2/optimizer_v2.py:375: UserWarning: The `lr` argument is deprecated, use `learning_rate` instead.\n",
            "  \"The `lr` argument is deprecated, use `learning_rate` instead.\")\n"
          ],
          "name": "stderr"
        }
      ]
    },
    {
      "cell_type": "code",
      "metadata": {
        "colab": {
          "base_uri": "https://localhost:8080/"
        },
        "id": "0feI7l2tleU2",
        "outputId": "242afca9-6323-4221-cff4-feddcd41f9f5"
      },
      "source": [
        "history = model_transfer.fit(train_ds,epochs=35,validation_data=val_ds)\n"
      ],
      "execution_count": null,
      "outputs": [
        {
          "output_type": "stream",
          "text": [
            "Epoch 1/35\n",
            "235/235 [==============================] - 214s 628ms/step - loss: 12.0007 - accuracy: 0.0157 - val_loss: 10.2650 - val_accuracy: 0.0350\n",
            "Epoch 2/35\n",
            "235/235 [==============================] - 147s 624ms/step - loss: 11.6222 - accuracy: 0.0267 - val_loss: 9.9718 - val_accuracy: 0.0855\n",
            "Epoch 3/35\n",
            "235/235 [==============================] - 146s 621ms/step - loss: 11.3063 - accuracy: 0.0394 - val_loss: 9.7147 - val_accuracy: 0.1450\n",
            "Epoch 4/35\n",
            "235/235 [==============================] - 146s 619ms/step - loss: 11.0719 - accuracy: 0.0635 - val_loss: 9.4946 - val_accuracy: 0.2020\n",
            "Epoch 5/35\n",
            "235/235 [==============================] - 146s 623ms/step - loss: 10.8613 - accuracy: 0.0753 - val_loss: 9.3153 - val_accuracy: 0.2500\n",
            "Epoch 6/35\n",
            "235/235 [==============================] - 146s 620ms/step - loss: 10.6275 - accuracy: 0.0992 - val_loss: 9.1448 - val_accuracy: 0.2900\n",
            "Epoch 7/35\n",
            "235/235 [==============================] - 146s 620ms/step - loss: 10.4887 - accuracy: 0.1167 - val_loss: 9.0042 - val_accuracy: 0.3175\n",
            "Epoch 8/35\n",
            "235/235 [==============================] - 146s 622ms/step - loss: 10.3397 - accuracy: 0.1442 - val_loss: 8.8623 - val_accuracy: 0.3450\n",
            "Epoch 9/35\n",
            "235/235 [==============================] - 146s 622ms/step - loss: 10.2363 - accuracy: 0.1653 - val_loss: 8.7490 - val_accuracy: 0.3800\n",
            "Epoch 10/35\n",
            "235/235 [==============================] - 146s 622ms/step - loss: 10.0176 - accuracy: 0.1854 - val_loss: 8.6433 - val_accuracy: 0.3980\n",
            "Epoch 11/35\n",
            "235/235 [==============================] - 145s 619ms/step - loss: 9.9224 - accuracy: 0.2116 - val_loss: 8.5455 - val_accuracy: 0.4215\n",
            "Epoch 12/35\n",
            "235/235 [==============================] - 146s 621ms/step - loss: 9.8281 - accuracy: 0.2315 - val_loss: 8.4532 - val_accuracy: 0.4400\n",
            "Epoch 13/35\n",
            "235/235 [==============================] - 146s 620ms/step - loss: 9.7404 - accuracy: 0.2652 - val_loss: 8.3767 - val_accuracy: 0.4570\n",
            "Epoch 14/35\n",
            "235/235 [==============================] - 145s 618ms/step - loss: 9.6515 - accuracy: 0.2760 - val_loss: 8.3078 - val_accuracy: 0.4690\n",
            "Epoch 15/35\n",
            "235/235 [==============================] - 146s 620ms/step - loss: 9.5370 - accuracy: 0.3048 - val_loss: 8.2398 - val_accuracy: 0.4845\n",
            "Epoch 16/35\n",
            "235/235 [==============================] - 146s 620ms/step - loss: 9.4456 - accuracy: 0.3224 - val_loss: 8.1797 - val_accuracy: 0.5015\n",
            "Epoch 17/35\n",
            "235/235 [==============================] - 146s 620ms/step - loss: 9.4058 - accuracy: 0.3389 - val_loss: 8.1309 - val_accuracy: 0.5110\n",
            "Epoch 18/35\n",
            "235/235 [==============================] - 146s 621ms/step - loss: 9.3319 - accuracy: 0.3564 - val_loss: 8.0879 - val_accuracy: 0.5205\n",
            "Epoch 19/35\n",
            "235/235 [==============================] - 145s 619ms/step - loss: 9.2746 - accuracy: 0.3743 - val_loss: 8.0482 - val_accuracy: 0.5325\n",
            "Epoch 20/35\n",
            "235/235 [==============================] - 146s 621ms/step - loss: 9.2451 - accuracy: 0.3860 - val_loss: 8.0126 - val_accuracy: 0.5440\n",
            "Epoch 21/35\n",
            "235/235 [==============================] - 145s 618ms/step - loss: 9.2149 - accuracy: 0.4083 - val_loss: 7.9845 - val_accuracy: 0.5520\n",
            "Epoch 22/35\n",
            "235/235 [==============================] - 146s 619ms/step - loss: 9.1543 - accuracy: 0.4099 - val_loss: 7.9623 - val_accuracy: 0.5630\n",
            "Epoch 23/35\n",
            "235/235 [==============================] - 145s 619ms/step - loss: 9.1006 - accuracy: 0.4363 - val_loss: 7.9399 - val_accuracy: 0.5680\n",
            "Epoch 24/35\n",
            "235/235 [==============================] - 146s 621ms/step - loss: 9.0919 - accuracy: 0.4461 - val_loss: 7.9304 - val_accuracy: 0.5745\n",
            "Epoch 25/35\n",
            "235/235 [==============================] - 146s 620ms/step - loss: 9.0503 - accuracy: 0.4589 - val_loss: 7.9254 - val_accuracy: 0.5795\n",
            "Epoch 26/35\n",
            "235/235 [==============================] - 146s 621ms/step - loss: 9.0370 - accuracy: 0.4666 - val_loss: 7.9223 - val_accuracy: 0.5835\n",
            "Epoch 27/35\n",
            "235/235 [==============================] - 146s 621ms/step - loss: 9.0096 - accuracy: 0.4702 - val_loss: 7.9229 - val_accuracy: 0.5885\n",
            "Epoch 28/35\n",
            "235/235 [==============================] - 146s 622ms/step - loss: 9.0435 - accuracy: 0.4889 - val_loss: 7.9167 - val_accuracy: 0.5930\n",
            "Epoch 29/35\n",
            "235/235 [==============================] - 146s 622ms/step - loss: 9.0120 - accuracy: 0.4971 - val_loss: 7.9265 - val_accuracy: 0.5975\n",
            "Epoch 30/35\n",
            "235/235 [==============================] - 146s 621ms/step - loss: 9.0047 - accuracy: 0.5068 - val_loss: 7.9449 - val_accuracy: 0.5990\n",
            "Epoch 31/35\n",
            "235/235 [==============================] - 146s 622ms/step - loss: 8.9865 - accuracy: 0.5120 - val_loss: 7.9620 - val_accuracy: 0.6040\n",
            "Epoch 32/35\n",
            "235/235 [==============================] - 146s 621ms/step - loss: 8.9800 - accuracy: 0.5123 - val_loss: 7.9717 - val_accuracy: 0.6065\n",
            "Epoch 33/35\n",
            "235/235 [==============================] - 145s 616ms/step - loss: 8.9915 - accuracy: 0.5257 - val_loss: 7.9942 - val_accuracy: 0.6120\n",
            "Epoch 34/35\n",
            "235/235 [==============================] - 146s 620ms/step - loss: 9.0389 - accuracy: 0.5262 - val_loss: 8.0237 - val_accuracy: 0.6165\n",
            "Epoch 35/35\n",
            "235/235 [==============================] - 146s 620ms/step - loss: 9.0600 - accuracy: 0.5317 - val_loss: 8.0625 - val_accuracy: 0.6175\n"
          ],
          "name": "stdout"
        }
      ]
    },
    {
      "cell_type": "code",
      "metadata": {
        "colab": {
          "base_uri": "https://localhost:8080/"
        },
        "id": "CqLN-eF6fhtg",
        "outputId": "9643ff4b-97b5-45c6-dce6-4f377db0b43b"
      },
      "source": [
        "\n",
        "res_model.trainable = False\n",
        "# set layers trainable to True\n",
        "for layer in res_model.layers[:-5]:\n",
        "  layer.trainable = True\n",
        "\n",
        "\n",
        "# add new classifier layers\n",
        "model = Flatten()(res_model.output)\n",
        "model = Dense(256, activation='relu')(model)\n",
        "model = Dropout(0.5)(model)\n",
        "model = BatchNormalization(name = 'Batch_normalize1')(model)\n",
        "model = Dense(128, activation='relu', kernel_initializer='he_uniform')(model)\n",
        "model = Dropout(0.5)(model)\n",
        "model = BatchNormalization(name = 'Batch_normalize2')(model)\n",
        "output = Dense(60, activation='softmax')(model)\n",
        "\n",
        "# define new model\n",
        "model_transfer2 = Model(inputs=res_model.inputs, outputs=output)\n",
        "model_transfer2.summary()\n",
        "\n",
        "# opt = Adam((learning_rate=1e-2))\n",
        "# compile model\n",
        "model_transfer2.compile(loss='categorical_crossentropy', optimizer=SGD(lr=2e-4), metrics=[\"accuracy\"])"
      ],
      "execution_count": null,
      "outputs": [
        {
          "output_type": "stream",
          "text": [
            "Model: \"model_2\"\n",
            "_________________________________________________________________\n",
            "Layer (type)                 Output Shape              Param #   \n",
            "=================================================================\n",
            "input_1 (InputLayer)         [(None, 224, 224, 3)]     0         \n",
            "_________________________________________________________________\n",
            "block1_conv1 (Conv2D)        (None, 224, 224, 64)      1792      \n",
            "_________________________________________________________________\n",
            "block1_conv2 (Conv2D)        (None, 224, 224, 64)      36928     \n",
            "_________________________________________________________________\n",
            "block1_pool (MaxPooling2D)   (None, 112, 112, 64)      0         \n",
            "_________________________________________________________________\n",
            "block2_conv1 (Conv2D)        (None, 112, 112, 128)     73856     \n",
            "_________________________________________________________________\n",
            "block2_conv2 (Conv2D)        (None, 112, 112, 128)     147584    \n",
            "_________________________________________________________________\n",
            "block2_pool (MaxPooling2D)   (None, 56, 56, 128)       0         \n",
            "_________________________________________________________________\n",
            "block3_conv1 (Conv2D)        (None, 56, 56, 256)       295168    \n",
            "_________________________________________________________________\n",
            "block3_conv2 (Conv2D)        (None, 56, 56, 256)       590080    \n",
            "_________________________________________________________________\n",
            "block3_conv3 (Conv2D)        (None, 56, 56, 256)       590080    \n",
            "_________________________________________________________________\n",
            "block3_conv4 (Conv2D)        (None, 56, 56, 256)       590080    \n",
            "_________________________________________________________________\n",
            "block3_pool (MaxPooling2D)   (None, 28, 28, 256)       0         \n",
            "_________________________________________________________________\n",
            "block4_conv1 (Conv2D)        (None, 28, 28, 512)       1180160   \n",
            "_________________________________________________________________\n",
            "block4_conv2 (Conv2D)        (None, 28, 28, 512)       2359808   \n",
            "_________________________________________________________________\n",
            "block4_conv3 (Conv2D)        (None, 28, 28, 512)       2359808   \n",
            "_________________________________________________________________\n",
            "block4_conv4 (Conv2D)        (None, 28, 28, 512)       2359808   \n",
            "_________________________________________________________________\n",
            "block4_pool (MaxPooling2D)   (None, 14, 14, 512)       0         \n",
            "_________________________________________________________________\n",
            "block5_conv1 (Conv2D)        (None, 14, 14, 512)       2359808   \n",
            "_________________________________________________________________\n",
            "block5_conv2 (Conv2D)        (None, 14, 14, 512)       2359808   \n",
            "_________________________________________________________________\n",
            "block5_conv3 (Conv2D)        (None, 14, 14, 512)       2359808   \n",
            "_________________________________________________________________\n",
            "block5_conv4 (Conv2D)        (None, 14, 14, 512)       2359808   \n",
            "_________________________________________________________________\n",
            "block5_pool (MaxPooling2D)   (None, 7, 7, 512)         0         \n",
            "_________________________________________________________________\n",
            "flatten_2 (Flatten)          (None, 25088)             0         \n",
            "_________________________________________________________________\n",
            "dense_6 (Dense)              (None, 256)               6422784   \n",
            "_________________________________________________________________\n",
            "dropout_4 (Dropout)          (None, 256)               0         \n",
            "_________________________________________________________________\n",
            "Batch_normalize1 (BatchNorma (None, 256)               1024      \n",
            "_________________________________________________________________\n",
            "dense_7 (Dense)              (None, 128)               32896     \n",
            "_________________________________________________________________\n",
            "dropout_5 (Dropout)          (None, 128)               0         \n",
            "_________________________________________________________________\n",
            "Batch_normalize2 (BatchNorma (None, 128)               512       \n",
            "_________________________________________________________________\n",
            "dense_8 (Dense)              (None, 60)                7740      \n",
            "=================================================================\n",
            "Total params: 26,489,340\n",
            "Trainable params: 17,049,340\n",
            "Non-trainable params: 9,440,000\n",
            "_________________________________________________________________\n"
          ],
          "name": "stdout"
        },
        {
          "output_type": "stream",
          "text": [
            "/usr/local/lib/python3.7/dist-packages/tensorflow/python/keras/optimizer_v2/optimizer_v2.py:375: UserWarning: The `lr` argument is deprecated, use `learning_rate` instead.\n",
            "  \"The `lr` argument is deprecated, use `learning_rate` instead.\")\n"
          ],
          "name": "stderr"
        }
      ]
    },
    {
      "cell_type": "code",
      "metadata": {
        "colab": {
          "base_uri": "https://localhost:8080/"
        },
        "id": "Iq5O8Dj2GiNa",
        "outputId": "0c7d004a-7393-4b8d-ad5c-5fad5404f438"
      },
      "source": [
        "history2 = model_transfer2.fit(train_ds,epochs=40,validation_data=val_ds)"
      ],
      "execution_count": null,
      "outputs": [
        {
          "output_type": "stream",
          "text": [
            "Epoch 1/40\n",
            "235/235 [==============================] - 394s 2s/step - loss: 11.9568 - accuracy: 0.0228 - val_loss: 10.0594 - val_accuracy: 0.0885\n",
            "Epoch 2/40\n",
            "235/235 [==============================] - 384s 2s/step - loss: 11.5665 - accuracy: 0.0331 - val_loss: 9.7254 - val_accuracy: 0.1725\n",
            "Epoch 3/40\n",
            "235/235 [==============================] - 366s 2s/step - loss: 11.2624 - accuracy: 0.0518 - val_loss: 9.4565 - val_accuracy: 0.2555\n",
            "Epoch 4/40\n",
            "235/235 [==============================] - 364s 2s/step - loss: 10.9517 - accuracy: 0.0794 - val_loss: 9.2211 - val_accuracy: 0.3155\n",
            "Epoch 5/40\n",
            "235/235 [==============================] - 364s 2s/step - loss: 10.7036 - accuracy: 0.1085 - val_loss: 9.0283 - val_accuracy: 0.3710\n",
            "Epoch 6/40\n",
            "235/235 [==============================] - 367s 2s/step - loss: 10.4549 - accuracy: 0.1497 - val_loss: 8.8693 - val_accuracy: 0.4045\n",
            "Epoch 7/40\n",
            "235/235 [==============================] - 364s 2s/step - loss: 10.3102 - accuracy: 0.1769 - val_loss: 8.7299 - val_accuracy: 0.4415\n",
            "Epoch 8/40\n",
            "235/235 [==============================] - 363s 2s/step - loss: 10.1438 - accuracy: 0.2042 - val_loss: 8.6030 - val_accuracy: 0.4620\n",
            "Epoch 9/40\n",
            "235/235 [==============================] - 364s 2s/step - loss: 10.0112 - accuracy: 0.2331 - val_loss: 8.5238 - val_accuracy: 0.4815\n",
            "Epoch 10/40\n",
            "235/235 [==============================] - 366s 2s/step - loss: 9.8917 - accuracy: 0.2614 - val_loss: 8.4455 - val_accuracy: 0.5085\n",
            "Epoch 11/40\n",
            "235/235 [==============================] - 365s 2s/step - loss: 9.7584 - accuracy: 0.2889 - val_loss: 8.3839 - val_accuracy: 0.5285\n",
            "Epoch 12/40\n",
            "235/235 [==============================] - 366s 2s/step - loss: 9.7002 - accuracy: 0.3198 - val_loss: 8.3095 - val_accuracy: 0.5475\n",
            "Epoch 13/40\n",
            "235/235 [==============================] - 364s 2s/step - loss: 9.6309 - accuracy: 0.3343 - val_loss: 8.2467 - val_accuracy: 0.5475\n",
            "Epoch 14/40\n",
            "235/235 [==============================] - 364s 2s/step - loss: 9.5203 - accuracy: 0.3528 - val_loss: 8.1957 - val_accuracy: 0.5645\n",
            "Epoch 15/40\n",
            "235/235 [==============================] - 363s 2s/step - loss: 9.4484 - accuracy: 0.3775 - val_loss: 8.1325 - val_accuracy: 0.5780\n",
            "Epoch 16/40\n",
            "235/235 [==============================] - 361s 2s/step - loss: 9.3656 - accuracy: 0.3956 - val_loss: 8.1240 - val_accuracy: 0.5760\n",
            "Epoch 17/40\n",
            "235/235 [==============================] - 363s 2s/step - loss: 9.3459 - accuracy: 0.4127 - val_loss: 8.0939 - val_accuracy: 0.5880\n",
            "Epoch 18/40\n",
            "235/235 [==============================] - 362s 2s/step - loss: 9.2553 - accuracy: 0.4295 - val_loss: 8.0601 - val_accuracy: 0.5960\n",
            "Epoch 19/40\n",
            "235/235 [==============================] - 362s 2s/step - loss: 9.2311 - accuracy: 0.4401 - val_loss: 8.0371 - val_accuracy: 0.6040\n",
            "Epoch 20/40\n",
            "235/235 [==============================] - 364s 2s/step - loss: 9.1702 - accuracy: 0.4490 - val_loss: 8.0501 - val_accuracy: 0.6085\n",
            "Epoch 21/40\n",
            "235/235 [==============================] - 365s 2s/step - loss: 9.1651 - accuracy: 0.4631 - val_loss: 8.0372 - val_accuracy: 0.6215\n",
            "Epoch 22/40\n",
            "235/235 [==============================] - 365s 2s/step - loss: 9.0692 - accuracy: 0.4702 - val_loss: 8.0285 - val_accuracy: 0.6110\n",
            "Epoch 23/40\n",
            "235/235 [==============================] - 365s 2s/step - loss: 9.1140 - accuracy: 0.4799 - val_loss: 8.0497 - val_accuracy: 0.6285\n",
            "Epoch 24/40\n",
            "235/235 [==============================] - 368s 2s/step - loss: 9.0970 - accuracy: 0.4850 - val_loss: 8.0576 - val_accuracy: 0.6300\n",
            "Epoch 25/40\n",
            "235/235 [==============================] - 365s 2s/step - loss: 9.1231 - accuracy: 0.4977 - val_loss: 8.0269 - val_accuracy: 0.6290\n",
            "Epoch 26/40\n",
            "235/235 [==============================] - 364s 2s/step - loss: 9.0737 - accuracy: 0.5033 - val_loss: 8.0838 - val_accuracy: 0.6340\n",
            "Epoch 27/40\n",
            "235/235 [==============================] - 365s 2s/step - loss: 9.0906 - accuracy: 0.5135 - val_loss: 8.1802 - val_accuracy: 0.6350\n",
            "Epoch 28/40\n",
            "235/235 [==============================] - 364s 2s/step - loss: 9.0902 - accuracy: 0.5213 - val_loss: 8.0851 - val_accuracy: 0.6405\n",
            "Epoch 29/40\n",
            "235/235 [==============================] - 365s 2s/step - loss: 9.0868 - accuracy: 0.5237 - val_loss: 8.2092 - val_accuracy: 0.6420\n",
            "Epoch 30/40\n",
            "235/235 [==============================] - 365s 2s/step - loss: 9.1075 - accuracy: 0.5291 - val_loss: 8.2337 - val_accuracy: 0.6430\n",
            "Epoch 31/40\n",
            "235/235 [==============================] - 364s 2s/step - loss: 9.1105 - accuracy: 0.5273 - val_loss: 8.2166 - val_accuracy: 0.6405\n",
            "Epoch 32/40\n",
            "235/235 [==============================] - 362s 2s/step - loss: 9.1277 - accuracy: 0.5414 - val_loss: 8.2671 - val_accuracy: 0.6465\n",
            "Epoch 33/40\n",
            "235/235 [==============================] - 364s 2s/step - loss: 9.1026 - accuracy: 0.5431 - val_loss: 8.3297 - val_accuracy: 0.6470\n",
            "Epoch 34/40\n",
            "235/235 [==============================] - 363s 2s/step - loss: 9.1919 - accuracy: 0.5463 - val_loss: 8.3621 - val_accuracy: 0.6470\n",
            "Epoch 35/40\n",
            "235/235 [==============================] - 366s 2s/step - loss: 9.2211 - accuracy: 0.5524 - val_loss: 8.4091 - val_accuracy: 0.6450\n",
            "Epoch 36/40\n",
            "235/235 [==============================] - 364s 2s/step - loss: 9.1899 - accuracy: 0.5543 - val_loss: 8.3891 - val_accuracy: 0.6465\n",
            "Epoch 37/40\n",
            "235/235 [==============================] - 364s 2s/step - loss: 9.2464 - accuracy: 0.5605 - val_loss: 8.4749 - val_accuracy: 0.6455\n",
            "Epoch 38/40\n",
            "235/235 [==============================] - 367s 2s/step - loss: 9.2040 - accuracy: 0.5618 - val_loss: 8.4796 - val_accuracy: 0.6460\n",
            "Epoch 39/40\n",
            "235/235 [==============================] - 365s 2s/step - loss: 9.2705 - accuracy: 0.5625 - val_loss: 8.6251 - val_accuracy: 0.6460\n",
            "Epoch 40/40\n",
            "235/235 [==============================] - 366s 2s/step - loss: 9.3461 - accuracy: 0.5657 - val_loss: 8.5686 - val_accuracy: 0.6475\n"
          ],
          "name": "stdout"
        }
      ]
    },
    {
      "cell_type": "code",
      "metadata": {
        "id": "RpDHuPQcXFF9"
      },
      "source": [
        "model_transfer2.save(\"/content/vgg_multi_label60_ver3_40epoch_.h5\")"
      ],
      "execution_count": null,
      "outputs": []
    },
    {
      "cell_type": "markdown",
      "metadata": {
        "id": "8JZTu9icCho8"
      },
      "source": [
        "# model prediction"
      ]
    },
    {
      "cell_type": "code",
      "metadata": {
        "id": "Xn-mIRgRBDXK"
      },
      "source": [
        "vgg19_predict = model_transfer.predict(test_image_tensor_batch)"
      ],
      "execution_count": null,
      "outputs": []
    },
    {
      "cell_type": "code",
      "metadata": {
        "colab": {
          "base_uri": "https://localhost:8080/",
          "height": 140
        },
        "id": "3ltRExoLE0LU",
        "outputId": "b495ddea-fafb-4cae-c9f5-1000b5b44fd5"
      },
      "source": [
        "# 取出Tensor圖片來看看\n",
        "import matplotlib.pyplot as plt\n",
        "plt.figure(figsize=(12,10))\n",
        "for label in test_image_label.take(6):\n",
        "  # print(label)\n",
        "  cat_label = []\n",
        "  for ids in np.where(label == 1): \n",
        "    for id in ids:\n",
        "      cat_label.append(cat_dict_transfer[id])\n",
        "  print(cat_label)\n",
        "  \n",
        "  #l = np.argmax(label.numpy())\n",
        "  # plt.subplot(2,3)\n",
        "  # plt.imshow(img)\n",
        "  # plt.title(\"Category Label: {} \\n \".format(cat_label[:]))    #np.where(label == 1)\n",
        "        \n",
        "  # plt.axis(\"off\")"
      ],
      "execution_count": null,
      "outputs": [
        {
          "output_type": "stream",
          "text": [
            "['person', 'baseball bat', 'baseball glove']\n",
            "['umbrella']\n",
            "['sheep']\n",
            "['person', 'horse']\n",
            "['zebra']\n",
            "['person', 'frisbee']\n"
          ],
          "name": "stdout"
        },
        {
          "output_type": "display_data",
          "data": {
            "text/plain": [
              "<Figure size 864x720 with 0 Axes>"
            ]
          },
          "metadata": {
            "tags": []
          }
        }
      ]
    },
    {
      "cell_type": "code",
      "metadata": {
        "colab": {
          "base_uri": "https://localhost:8080/"
        },
        "id": "0CHWLtEjB3tm",
        "outputId": "93c35798-50e6-4234-ae0e-636a46d58839"
      },
      "source": [
        "for i in range(10):           #印預測結果\n",
        "  test_result = vgg19_predict[i].argsort()[-5:][::-1]   #取前五高的\n",
        "  [print(cat_dict_transfer50[i]) for i in test_result]\n",
        "  print(\"--------------------------------------------\")"
      ],
      "execution_count": null,
      "outputs": [
        {
          "output_type": "stream",
          "text": [
            "person\n",
            "tennis racket\n",
            "sports ball\n",
            "baseball glove\n",
            "chair\n",
            "--------------------------------------------\n",
            "person\n",
            "umbrella\n",
            "surfboard\n",
            "stop sign\n",
            "donut\n",
            "--------------------------------------------\n",
            "sheep\n",
            "elephant\n",
            "boat\n",
            "horse\n",
            "dog\n",
            "--------------------------------------------\n",
            "person\n",
            "chair\n",
            "tennis racket\n",
            "umbrella\n",
            "sports ball\n",
            "--------------------------------------------\n",
            "zebra\n",
            "giraffe\n",
            "tie\n",
            "skateboard\n",
            "apple\n",
            "--------------------------------------------\n",
            "person\n",
            "sports ball\n",
            "car\n",
            "tennis racket\n",
            "frisbee\n",
            "--------------------------------------------\n",
            "cat\n",
            "giraffe\n",
            "spoon\n",
            "zebra\n",
            "tie\n",
            "--------------------------------------------\n",
            "cat\n",
            "sandwich\n",
            "dog\n",
            "stop sign\n",
            "apple\n",
            "--------------------------------------------\n",
            "zebra\n",
            "giraffe\n",
            "banana\n",
            "skateboard\n",
            "fire hydrant\n",
            "--------------------------------------------\n",
            "person\n",
            "snowboard\n",
            "train\n",
            "car\n",
            "skis\n",
            "--------------------------------------------\n"
          ],
          "name": "stdout"
        }
      ]
    },
    {
      "cell_type": "code",
      "metadata": {
        "id": "mpPAFP-7x0XD"
      },
      "source": [
        "model_transfer.save('/content/vgg_multi_label60_ver3_35epoch_SGD.h5')"
      ],
      "execution_count": null,
      "outputs": []
    },
    {
      "cell_type": "code",
      "metadata": {
        "id": "j6OD4p46I_ZL"
      },
      "source": [
        "for layer in res_model.layers[:-5]:\n",
        "  layer.trainable = True\n",
        "\n",
        "opt = Adam(learning_rate=1e-4)\n",
        "full_model = Sequential(layers=vgg19_finetune.layers)\n",
        "full_model.compile(\n",
        "    loss='categorical_crossentropy',\n",
        "    optimizer=SGD(learning_rate =2e-5),\n",
        "    metrics=['accuracy'])\n",
        "\n",
        "\n",
        "# full_model.summary()"
      ],
      "execution_count": null,
      "outputs": []
    },
    {
      "cell_type": "code",
      "metadata": {
        "colab": {
          "base_uri": "https://localhost:8080/"
        },
        "id": "Sl9p_DKDKSx2",
        "outputId": "c3b5e71d-7ea4-459c-d666-c945f718d057"
      },
      "source": [
        "vgg19_finetune.compile(\n",
        "    loss='categorical_crossentropy',\n",
        "    optimizer=SGD(learning_rate =2e-5),\n",
        "    metrics=['accuracy'])\n",
        "\n",
        "vgg19_finetune.fit(train_ds,epochs=5,validation_data=val_ds)"
      ],
      "execution_count": null,
      "outputs": [
        {
          "output_type": "stream",
          "text": [
            "Epoch 1/5\n",
            "235/235 [==============================] - 178s 754ms/step - loss: 9.0989 - accuracy: 0.4959 - val_loss: 7.9250 - val_accuracy: 0.6060\n",
            "Epoch 2/5\n",
            "235/235 [==============================] - 167s 709ms/step - loss: 9.1142 - accuracy: 0.4999 - val_loss: 7.9315 - val_accuracy: 0.6085\n",
            "Epoch 3/5\n",
            "235/235 [==============================] - 147s 627ms/step - loss: 9.1244 - accuracy: 0.5113 - val_loss: 7.9460 - val_accuracy: 0.6110\n",
            "Epoch 4/5\n",
            "235/235 [==============================] - 146s 621ms/step - loss: 9.1532 - accuracy: 0.5127 - val_loss: 7.9668 - val_accuracy: 0.6180\n",
            "Epoch 5/5\n",
            "235/235 [==============================] - 145s 618ms/step - loss: 9.1303 - accuracy: 0.5171 - val_loss: 7.9813 - val_accuracy: 0.6195\n"
          ],
          "name": "stdout"
        },
        {
          "output_type": "execute_result",
          "data": {
            "text/plain": [
              "<tensorflow.python.keras.callbacks.History at 0x7fdc358bf810>"
            ]
          },
          "metadata": {
            "tags": []
          },
          "execution_count": 47
        }
      ]
    },
    {
      "cell_type": "code",
      "metadata": {
        "id": "LDWqo_mUmW8t",
        "colab": {
          "base_uri": "https://localhost:8080/",
          "height": 573
        },
        "outputId": "e2cb24f2-b146-457d-a911-9048b265948d"
      },
      "source": [
        "import matplotlib.pyplot as plt\n",
        "def plot_graph(history,string):\n",
        "    \n",
        "    plt.plot(history.history[string],label='training '+string)\n",
        "    plt.plot(history.history['val_'+string],label='validation '+string)\n",
        "    plt.legend()\n",
        "    plt.xlabel('epochs')\n",
        "    plt.ylabel(string)\n",
        "    plt.title(string+' vs epochs')\n",
        "    plt.show()\n",
        "plot_graph(history2,'loss')\n",
        "plot_graph(history2,'accuracy')"
      ],
      "execution_count": null,
      "outputs": [
        {
          "output_type": "display_data",
          "data": {
            "image/png": "[encoded data removed]",
            "text/plain": [
              "<Figure size 432x288 with 1 Axes>"
            ]
          },
          "metadata": {
            "tags": [],
            "needs_background": "light"
          }
        },
        {
          "output_type": "display_data",
          "data": {
            "image/png": "[encoded data removed]",
            "text/plain": [
              "<Figure size 432x288 with 1 Axes>"
            ]
          },
          "metadata": {
            "tags": [],
            "needs_background": "light"
          }
        }
      ]
    },
    {
      "cell_type": "code",
      "metadata": {
        "id": "0jhBKBvwuc8F"
      },
      "source": [
        "model_transfer.save('/content/vgg_multi_label60_ver2_30epoch_.h5')"
      ],
      "execution_count": null,
      "outputs": []
    },
    {
      "cell_type": "code",
      "metadata": {
        "id": "nOEe7e61ud1i"
      },
      "source": [
        ""
      ],
      "execution_count": null,
      "outputs": []
    }
  ]
}